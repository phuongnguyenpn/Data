{
 "cells": [
  {
   "cell_type": "code",
   "execution_count": null,
   "id": "initial_id",
   "metadata": {
    "collapsed": true
   },
   "outputs": [],
   "source": [
    "from sklearn.preprocessing import OneHotEncoder\n",
    "from sklearn.cluster import KMeans\n",
    "import numpy as np\n",
    "\n",
    "# Data Preparation: One-Hot Encoding of categorical features\n",
    "encoder = OneHotEncoder()\n",
    "encoded_features = encoder.fit_transform(data[['Category', 'Workplace', 'Type']])\n",
    "\n",
    "# Determine Optimal k using the Elbow Method\n",
    "inertia = []\n",
    "k_values = range(1, 11)  # Testing k values from 1 to 10\n",
    "\n",
    "for k in k_values:\n",
    "    kmeans = KMeans(n_clusters=k, random_state=42)\n",
    "    kmeans.fit(encoded_features)\n",
    "    inertia.append(kmeans.inertia_)\n",
    "\n",
    "# Plotting the elbow plot\n",
    "plt.figure(figsize=(10, 6))\n",
    "plt.plot(k_values, inertia, '-o')\n",
    "plt.title('Elbow Method to Determine Optimal k')\n",
    "plt.xlabel('Number of Clusters, k')\n",
    "plt.ylabel('Inertia')\n",
    "plt.xticks(k_values)\n",
    "plt.grid(True)\n",
    "plt.show()"
   ]
  },
  {
   "cell_type": "code",
   "outputs": [],
   "source": [
    "# Performing K-Means clustering with k=4\n",
    "kmeans_final = KMeans(n_clusters=4, random_state=42)\n",
    "kmeans_final.fit(encoded_features)\n",
    "\n",
    "# Adding the cluster labels to the original dataset for analysis\n",
    "data['Cluster'] = kmeans_final.labels_\n",
    "\n",
    "# Analyzing the clusters\n",
    "cluster_summary = data.groupby('Cluster').agg({\n",
    "    'Category': lambda x: x.mode()[0],  # Most common category in each cluster\n",
    "    'Workplace': lambda x: x.mode()[0],  # Most common workplace in each cluster\n",
    "    'Type': lambda x: x.mode()[0],       # Most common employment type in each cluster\n",
    "    'Location': 'count'                  # Number of listings in each cluster\n",
    "}).rename(columns={'Location': 'Count'})\n",
    "\n",
    "cluster_summary"
   ],
   "metadata": {
    "collapsed": false
   },
   "id": "3e7999ff2695ca0a"
  },
  {
   "cell_type": "code",
   "outputs": [],
   "source": [
    "# Visualizing the distribution of job categories within each cluster\n",
    "plt.figure(figsize=(14, 8))\n",
    "sns.countplot(data=data, x='Category', hue='Cluster', palette='Set1')\n",
    "plt.title('Distribution of Job Categories Within Clusters')\n",
    "plt.xlabel('Job Category')\n",
    "plt.ylabel('Number of Listings')\n",
    "plt.legend(title='Cluster')\n",
    "plt.xticks(rotation=45)\n",
    "plt.show()\n",
    "\n",
    "# Visualizing workplace preferences within each cluster\n",
    "plt.figure(figsize=(14, 8))\n",
    "sns.countplot(data=data, x='Workplace', hue='Cluster', palette='Set2')\n",
    "plt.title('Workplace Preferences Within Clusters')\n",
    "plt.xlabel('Workplace Preference')\n",
    "plt.ylabel('Number of Listings')\n",
    "plt.legend(title='Cluster')\n",
    "plt.xticks(rotation=45)\n",
    "plt.show()\n",
    "\n",
    "# Visualizing employment types within each cluster\n",
    "plt.figure(figsize=(14, 8))\n",
    "sns.countplot(data=data, x='Type', hue='Cluster', palette='Set3')\n",
    "plt.title('Employment Types Within Clusters')\n",
    "plt.xlabel('Employment Type')\n",
    "plt.ylabel('Number of Listings')\n",
    "plt.legend(title='Cluster')\n",
    "plt.xticks(rotation=45)\n",
    "plt.show()"
   ],
   "metadata": {
    "collapsed": false
   },
   "id": "caa5b9f69e141d6d"
  },
  {
   "cell_type": "code",
   "outputs": [],
   "source": [
    "from scipy.stats import chi2_contingency\n",
    "import numpy as np\n",
    "\n",
    "def cramers_v(x, y):\n",
    "    confusion_matrix = pd.crosstab(x, y)\n",
    "    chi2 = chi2_contingency(confusion_matrix)[0]\n",
    "    n = confusion_matrix.sum().sum()\n",
    "    phi2 = chi2 / n\n",
    "    r, k = confusion_matrix.shape\n",
    "    phi2_corr = max(0, phi2 - ((k-1)*(r-1))/(n-1))    \n",
    "    r_corr = r - ((r-1)**2)/(n-1)\n",
    "    k_corr = k - ((k-1)**2)/(n-1)\n",
    "    return np.sqrt(phi2_corr / min((k_corr-1), (r_corr-1)))\n",
    "\n",
    "# Creating a matrix to hold the Cramér's V values\n",
    "variables = ['Category', 'Workplace', 'Type']\n",
    "cramers_v_matrix = pd.DataFrame(np.zeros((len(variables), len(variables))), index=variables, columns=variables)\n",
    "\n",
    "# Calculating Cramér's V for each pair of variables\n",
    "for col1 in variables:\n",
    "    for col2 in variables:\n",
    "        cramers_v_matrix.loc[col1, col2] = cramers_v(data[col1], data[col2])\n",
    "\n",
    "cramers_v_matrix\n",
    "# Visualizing the Cramér's V correlation matrix\n",
    "plt.figure(figsize=(10, 8))\n",
    "sns.heatmap(cramers_v_matrix, annot=True, cmap='coolwarm', vmin=0, vmax=1)\n",
    "plt.title(\"Cramér's V Correlation Matrix\")\n",
    "plt.show()"
   ],
   "metadata": {
    "collapsed": false
   },
   "id": "8a618bb50310a4"
  }
 ],
 "metadata": {
  "kernelspec": {
   "display_name": "Python 3",
   "language": "python",
   "name": "python3"
  },
  "language_info": {
   "codemirror_mode": {
    "name": "ipython",
    "version": 2
   },
   "file_extension": ".py",
   "mimetype": "text/x-python",
   "name": "python",
   "nbconvert_exporter": "python",
   "pygments_lexer": "ipython2",
   "version": "2.7.6"
  }
 },
 "nbformat": 4,
 "nbformat_minor": 5
}
